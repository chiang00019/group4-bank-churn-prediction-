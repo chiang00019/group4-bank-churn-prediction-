{
 "cells": [
  {
   "cell_type": "code",
   "execution_count": 10,
   "id": "5b654fc0",
   "metadata": {},
   "outputs": [
    {
     "name": "stdout",
     "output_type": "stream",
     "text": [
      "   CLIENTNUM     Attrition_Flag  Customer_Age Gender  Dependent_count  \\\n",
      "0  768805383  Existing Customer            45      M                3   \n",
      "1  818770008  Existing Customer            49      F                5   \n",
      "2  713982108  Existing Customer            51      M                3   \n",
      "3  769911858  Existing Customer            40      F                4   \n",
      "4  709106358  Existing Customer            40      M                3   \n",
      "\n",
      "  Education_Level Marital_Status Income_Category Card_Category  \\\n",
      "0     High School        Married     $60K - $80K          Blue   \n",
      "1        Graduate         Single  Less than $40K          Blue   \n",
      "2        Graduate        Married    $80K - $120K          Blue   \n",
      "3     High School        Unknown  Less than $40K          Blue   \n",
      "4      Uneducated        Married     $60K - $80K          Blue   \n",
      "\n",
      "   Months_on_book  ...  Credit_Limit  Total_Revolving_Bal  Avg_Open_To_Buy  \\\n",
      "0              39  ...       12691.0                  777          11914.0   \n",
      "1              44  ...        8256.0                  864           7392.0   \n",
      "2              36  ...        3418.0                    0           3418.0   \n",
      "3              34  ...        3313.0                 2517            796.0   \n",
      "4              21  ...        4716.0                    0           4716.0   \n",
      "\n",
      "   Total_Amt_Chng_Q4_Q1  Total_Trans_Amt  Total_Trans_Ct  Total_Ct_Chng_Q4_Q1  \\\n",
      "0                 1.335             1144              42                1.625   \n",
      "1                 1.541             1291              33                3.714   \n",
      "2                 2.594             1887              20                2.333   \n",
      "3                 1.405             1171              20                2.333   \n",
      "4                 2.175              816              28                2.500   \n",
      "\n",
      "   Avg_Utilization_Ratio  \\\n",
      "0                  0.061   \n",
      "1                  0.105   \n",
      "2                  0.000   \n",
      "3                  0.760   \n",
      "4                  0.000   \n",
      "\n",
      "   Naive_Bayes_Classifier_Attrition_Flag_Card_Category_Contacts_Count_12_mon_Dependent_count_Education_Level_Months_Inactive_12_mon_1  \\\n",
      "0                                           0.000093                                                                                    \n",
      "1                                           0.000057                                                                                    \n",
      "2                                           0.000021                                                                                    \n",
      "3                                           0.000134                                                                                    \n",
      "4                                           0.000022                                                                                    \n",
      "\n",
      "   Naive_Bayes_Classifier_Attrition_Flag_Card_Category_Contacts_Count_12_mon_Dependent_count_Education_Level_Months_Inactive_12_mon_2  \n",
      "0                                            0.99991                                                                                   \n",
      "1                                            0.99994                                                                                   \n",
      "2                                            0.99998                                                                                   \n",
      "3                                            0.99987                                                                                   \n",
      "4                                            0.99998                                                                                   \n",
      "\n",
      "[5 rows x 23 columns]\n"
     ]
    }
   ],
   "source": [
    "import pandas as pd\n",
    "\n",
    "# 替換為你的檔案路徑\n",
    "bank = pd.read_csv('BankChurners.csv')\n",
    "\n",
    "# 顯示前五筆資料\n",
    "print(bank.head())\n"
   ]
  },
  {
   "cell_type": "code",
   "execution_count": 11,
   "id": "3b23ecae",
   "metadata": {},
   "outputs": [
    {
     "name": "stdout",
     "output_type": "stream",
     "text": [
      "<class 'pandas.core.frame.DataFrame'>\n",
      "RangeIndex: 10127 entries, 0 to 10126\n",
      "Data columns (total 23 columns):\n",
      " #   Column                                                                                                                              Non-Null Count  Dtype  \n",
      "---  ------                                                                                                                              --------------  -----  \n",
      " 0   CLIENTNUM                                                                                                                           10127 non-null  int64  \n",
      " 1   Attrition_Flag                                                                                                                      10127 non-null  object \n",
      " 2   Customer_Age                                                                                                                        10127 non-null  int64  \n",
      " 3   Gender                                                                                                                              10127 non-null  object \n",
      " 4   Dependent_count                                                                                                                     10127 non-null  int64  \n",
      " 5   Education_Level                                                                                                                     10127 non-null  object \n",
      " 6   Marital_Status                                                                                                                      10127 non-null  object \n",
      " 7   Income_Category                                                                                                                     10127 non-null  object \n",
      " 8   Card_Category                                                                                                                       10127 non-null  object \n",
      " 9   Months_on_book                                                                                                                      10127 non-null  int64  \n",
      " 10  Total_Relationship_Count                                                                                                            10127 non-null  int64  \n",
      " 11  Months_Inactive_12_mon                                                                                                              10127 non-null  int64  \n",
      " 12  Contacts_Count_12_mon                                                                                                               10127 non-null  int64  \n",
      " 13  Credit_Limit                                                                                                                        10127 non-null  float64\n",
      " 14  Total_Revolving_Bal                                                                                                                 10127 non-null  int64  \n",
      " 15  Avg_Open_To_Buy                                                                                                                     10127 non-null  float64\n",
      " 16  Total_Amt_Chng_Q4_Q1                                                                                                                10127 non-null  float64\n",
      " 17  Total_Trans_Amt                                                                                                                     10127 non-null  int64  \n",
      " 18  Total_Trans_Ct                                                                                                                      10127 non-null  int64  \n",
      " 19  Total_Ct_Chng_Q4_Q1                                                                                                                 10127 non-null  float64\n",
      " 20  Avg_Utilization_Ratio                                                                                                               10127 non-null  float64\n",
      " 21  Naive_Bayes_Classifier_Attrition_Flag_Card_Category_Contacts_Count_12_mon_Dependent_count_Education_Level_Months_Inactive_12_mon_1  10127 non-null  float64\n",
      " 22  Naive_Bayes_Classifier_Attrition_Flag_Card_Category_Contacts_Count_12_mon_Dependent_count_Education_Level_Months_Inactive_12_mon_2  10127 non-null  float64\n",
      "dtypes: float64(7), int64(10), object(6)\n",
      "memory usage: 1.8+ MB\n"
     ]
    }
   ],
   "source": [
    "bank.info()"
   ]
  },
  {
   "cell_type": "code",
   "execution_count": 12,
   "id": "e42e83a3",
   "metadata": {},
   "outputs": [
    {
     "name": "stdout",
     "output_type": "stream",
     "text": [
      "Requirement already satisfied: sweetviz in c:\\users\\michael\\anaconda3\\lib\\site-packages (2.3.1)\n",
      "Requirement already satisfied: tqdm>=4.43.0 in c:\\users\\michael\\anaconda3\\lib\\site-packages (from sweetviz) (4.62.3)\n",
      "Requirement already satisfied: jinja2>=2.11.1 in c:\\users\\michael\\anaconda3\\lib\\site-packages (from sweetviz) (2.11.3)\n",
      "Requirement already satisfied: numpy>=1.16.0 in c:\\users\\michael\\anaconda3\\lib\\site-packages (from sweetviz) (1.20.3)\n",
      "Requirement already satisfied: scipy>=1.3.2 in c:\\users\\michael\\anaconda3\\lib\\site-packages (from sweetviz) (1.7.1)\n",
      "Requirement already satisfied: pandas!=1.0.0,!=1.0.1,!=1.0.2,>=0.25.3 in c:\\users\\michael\\anaconda3\\lib\\site-packages (from sweetviz) (1.3.4)\n",
      "Requirement already satisfied: importlib-resources>=1.2.0 in c:\\users\\michael\\anaconda3\\lib\\site-packages (from sweetviz) (6.5.2)\n",
      "Requirement already satisfied: matplotlib>=3.1.3 in c:\\users\\michael\\anaconda3\\lib\\site-packages (from sweetviz) (3.4.3)\n",
      "Requirement already satisfied: zipp>=3.1.0 in c:\\users\\michael\\anaconda3\\lib\\site-packages (from importlib-resources>=1.2.0->sweetviz) (3.6.0)\n",
      "Requirement already satisfied: MarkupSafe>=0.23 in c:\\users\\michael\\anaconda3\\lib\\site-packages (from jinja2>=2.11.1->sweetviz) (1.1.1)\n",
      "Requirement already satisfied: pillow>=6.2.0 in c:\\users\\michael\\anaconda3\\lib\\site-packages (from matplotlib>=3.1.3->sweetviz) (8.4.0)\n",
      "Requirement already satisfied: python-dateutil>=2.7 in c:\\users\\michael\\anaconda3\\lib\\site-packages (from matplotlib>=3.1.3->sweetviz) (2.8.2)\n",
      "Requirement already satisfied: cycler>=0.10 in c:\\users\\michael\\anaconda3\\lib\\site-packages (from matplotlib>=3.1.3->sweetviz) (0.10.0)\n",
      "Requirement already satisfied: pyparsing>=2.2.1 in c:\\users\\michael\\anaconda3\\lib\\site-packages (from matplotlib>=3.1.3->sweetviz) (3.0.4)\n",
      "Requirement already satisfied: kiwisolver>=1.0.1 in c:\\users\\michael\\anaconda3\\lib\\site-packages (from matplotlib>=3.1.3->sweetviz) (1.3.1)\n",
      "Requirement already satisfied: six in c:\\users\\michael\\anaconda3\\lib\\site-packages (from cycler>=0.10->matplotlib>=3.1.3->sweetviz) (1.16.0)\n",
      "Requirement already satisfied: pytz>=2017.3 in c:\\users\\michael\\anaconda3\\lib\\site-packages (from pandas!=1.0.0,!=1.0.1,!=1.0.2,>=0.25.3->sweetviz) (2021.3)\n",
      "Requirement already satisfied: colorama in c:\\users\\michael\\anaconda3\\lib\\site-packages (from tqdm>=4.43.0->sweetviz) (0.4.4)\n",
      "Note: you may need to restart the kernel to use updated packages.\n"
     ]
    }
   ],
   "source": [
    "pip install sweetviz\n"
   ]
  },
  {
   "cell_type": "code",
   "execution_count": 6,
   "id": "b59ed027",
   "metadata": {},
   "outputs": [
    {
     "name": "stderr",
     "output_type": "stream",
     "text": [
      "Done! Use 'show' commands to display/save.   |██████████| [100%]   00:01 -> (00:00 left)                                                                                              \n"
     ]
    },
    {
     "name": "stdout",
     "output_type": "stream",
     "text": [
      "Report sweetviz_report.html was generated! NOTEBOOK/COLAB USERS: the web browser MAY not pop up, regardless, the report IS saved in your notebook/colab files.\n"
     ]
    }
   ],
   "source": [
    "import pandas as pd\n",
    "import sweetviz as sv\n",
    "\n",
    "report = sv.analyze(bank)\n",
    "report.show_html(\"sweetviz_report.html\")\n"
   ]
  },
  {
   "cell_type": "code",
   "execution_count": 13,
   "id": "055e19d0",
   "metadata": {},
   "outputs": [],
   "source": [
    "# Drop 掉 Naive Bayes 模型自動產生的預測欄位\n",
    "# 這是過去別的機器學習跑的資料所以要drop\n",
    "bank = bank.drop(columns=[\n",
    "    'Naive_Bayes_Classifier_Attrition_Flag_Card_Category_Contacts_Count_12_mon_Dependent_count_Education_Level_Months_Inactive_12_mon_1',\n",
    "    'Naive_Bayes_Classifier_Attrition_Flag_Card_Category_Contacts_Count_12_mon_Dependent_count_Education_Level_Months_Inactive_12_mon_2'\n",
    "])"
   ]
  },
  {
   "cell_type": "code",
   "execution_count": 14,
   "id": "dda2acea",
   "metadata": {},
   "outputs": [
    {
     "name": "stdout",
     "output_type": "stream",
     "text": [
      "<class 'pandas.core.frame.DataFrame'>\n",
      "RangeIndex: 10127 entries, 0 to 10126\n",
      "Data columns (total 21 columns):\n",
      " #   Column                    Non-Null Count  Dtype  \n",
      "---  ------                    --------------  -----  \n",
      " 0   CLIENTNUM                 10127 non-null  int64  \n",
      " 1   Attrition_Flag            10127 non-null  object \n",
      " 2   Customer_Age              10127 non-null  int64  \n",
      " 3   Gender                    10127 non-null  object \n",
      " 4   Dependent_count           10127 non-null  int64  \n",
      " 5   Education_Level           10127 non-null  object \n",
      " 6   Marital_Status            10127 non-null  object \n",
      " 7   Income_Category           10127 non-null  object \n",
      " 8   Card_Category             10127 non-null  object \n",
      " 9   Months_on_book            10127 non-null  int64  \n",
      " 10  Total_Relationship_Count  10127 non-null  int64  \n",
      " 11  Months_Inactive_12_mon    10127 non-null  int64  \n",
      " 12  Contacts_Count_12_mon     10127 non-null  int64  \n",
      " 13  Credit_Limit              10127 non-null  float64\n",
      " 14  Total_Revolving_Bal       10127 non-null  int64  \n",
      " 15  Avg_Open_To_Buy           10127 non-null  float64\n",
      " 16  Total_Amt_Chng_Q4_Q1      10127 non-null  float64\n",
      " 17  Total_Trans_Amt           10127 non-null  int64  \n",
      " 18  Total_Trans_Ct            10127 non-null  int64  \n",
      " 19  Total_Ct_Chng_Q4_Q1       10127 non-null  float64\n",
      " 20  Avg_Utilization_Ratio     10127 non-null  float64\n",
      "dtypes: float64(5), int64(10), object(6)\n",
      "memory usage: 1.6+ MB\n"
     ]
    }
   ],
   "source": [
    "bank.info()"
   ]
  },
  {
   "cell_type": "code",
   "execution_count": 16,
   "id": "be7eeb38",
   "metadata": {},
   "outputs": [
    {
     "name": "stdout",
     "output_type": "stream",
     "text": [
      "原始資料流失率:\n",
      " Existing Customer    0.83934\n",
      "Attrited Customer    0.16066\n",
      "Name: Attrition_Flag, dtype: float64\n",
      "\n",
      "訓練資料流失率:\n",
      " Existing Customer    0.839279\n",
      "Attrited Customer    0.160721\n",
      "Name: Attrition_Flag, dtype: float64\n",
      "\n",
      "測試資料流失率:\n",
      " Existing Customer    0.839585\n",
      "Attrited Customer    0.160415\n",
      "Name: Attrition_Flag, dtype: float64\n"
     ]
    }
   ],
   "source": [
    "from sklearn.model_selection import train_test_split\n",
    "\n",
    "target = 'Attrition_Flag'\n",
    "\n",
    "X_train, X_test, y_train, y_test = train_test_split(\n",
    "    bank.drop(columns=[target]),\n",
    "    bank[target],\n",
    "    test_size=0.2,\n",
    "    stratify=bank[target],\n",
    "    random_state=42\n",
    ")\n",
    "\n",
    "# 顯示流失率\n",
    "print(\"原始資料流失率:\\n\", bank[target].value_counts(normalize=True))\n",
    "print(\"\\n訓練資料流失率:\\n\", y_train.value_counts(normalize=True))\n",
    "print(\"\\n測試資料流失率:\\n\", y_test.value_counts(normalize=True))\n",
    "\n",
    "# 合併欄位並匯出\n",
    "train_df = X_train.copy()\n",
    "train_df[target] = y_train\n",
    "test_df = X_test.copy()\n",
    "test_df[target] = y_test\n",
    "\n",
    "train_df.to_csv(\"bank_train.csv\", index=False)\n",
    "test_df.to_csv(\"bank_test.csv\", index=False)\n"
   ]
  }
 ],
 "metadata": {
  "kernelspec": {
   "display_name": "base",
   "language": "python",
   "name": "python3"
  },
  "language_info": {
   "codemirror_mode": {
    "name": "ipython",
    "version": 3
   },
   "file_extension": ".py",
   "mimetype": "text/x-python",
   "name": "python",
   "nbconvert_exporter": "python",
   "pygments_lexer": "ipython3",
   "version": "3.9.7"
  }
 },
 "nbformat": 4,
 "nbformat_minor": 5
}
